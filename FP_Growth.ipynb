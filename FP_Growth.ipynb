{
  "nbformat": 4,
  "nbformat_minor": 0,
  "metadata": {
    "colab": {
      "name": "FP Growth.ipynb",
      "provenance": [],
      "collapsed_sections": []
    },
    "kernelspec": {
      "name": "python3",
      "display_name": "Python 3"
    },
    "language_info": {
      "name": "python"
    }
  },
  "cells": [
    {
      "cell_type": "code",
      "metadata": {
        "id": "NTcjNIk1IRpo",
        "colab": {
          "base_uri": "https://localhost:8080/"
        },
        "outputId": "e8abbad3-95a3-474b-b494-93aee1f815a5"
      },
      "source": [
        "import numpy as np\n",
        "import pandas as pd\n",
        "!pip install mlxtend\n",
        "!pip install pyfpgrowth\n",
        "import pyfpgrowth\n",
        "from mlxtend.frequent_patterns import apriori, association_rules\n",
        "from mlxtend.preprocessing import TransactionEncoder"
      ],
      "execution_count": 1,
      "outputs": [
        {
          "output_type": "stream",
          "text": [
            "Requirement already satisfied: mlxtend in /usr/local/lib/python3.7/dist-packages (0.14.0)\n",
            "Requirement already satisfied: matplotlib>=1.5.1 in /usr/local/lib/python3.7/dist-packages (from mlxtend) (3.2.2)\n",
            "Requirement already satisfied: setuptools in /usr/local/lib/python3.7/dist-packages (from mlxtend) (57.4.0)\n",
            "Requirement already satisfied: scipy>=0.17 in /usr/local/lib/python3.7/dist-packages (from mlxtend) (1.4.1)\n",
            "Requirement already satisfied: scikit-learn>=0.18 in /usr/local/lib/python3.7/dist-packages (from mlxtend) (0.22.2.post1)\n",
            "Requirement already satisfied: pandas>=0.17.1 in /usr/local/lib/python3.7/dist-packages (from mlxtend) (1.1.5)\n",
            "Requirement already satisfied: numpy>=1.10.4 in /usr/local/lib/python3.7/dist-packages (from mlxtend) (1.19.5)\n",
            "Requirement already satisfied: pyparsing!=2.0.4,!=2.1.2,!=2.1.6,>=2.0.1 in /usr/local/lib/python3.7/dist-packages (from matplotlib>=1.5.1->mlxtend) (2.4.7)\n",
            "Requirement already satisfied: kiwisolver>=1.0.1 in /usr/local/lib/python3.7/dist-packages (from matplotlib>=1.5.1->mlxtend) (1.3.1)\n",
            "Requirement already satisfied: cycler>=0.10 in /usr/local/lib/python3.7/dist-packages (from matplotlib>=1.5.1->mlxtend) (0.10.0)\n",
            "Requirement already satisfied: python-dateutil>=2.1 in /usr/local/lib/python3.7/dist-packages (from matplotlib>=1.5.1->mlxtend) (2.8.2)\n",
            "Requirement already satisfied: six in /usr/local/lib/python3.7/dist-packages (from cycler>=0.10->matplotlib>=1.5.1->mlxtend) (1.15.0)\n",
            "Requirement already satisfied: pytz>=2017.2 in /usr/local/lib/python3.7/dist-packages (from pandas>=0.17.1->mlxtend) (2018.9)\n",
            "Requirement already satisfied: joblib>=0.11 in /usr/local/lib/python3.7/dist-packages (from scikit-learn>=0.18->mlxtend) (1.0.1)\n",
            "Collecting pyfpgrowth\n",
            "  Downloading pyfpgrowth-1.0.tar.gz (1.6 MB)\n",
            "\u001b[K     |████████████████████████████████| 1.6 MB 5.2 MB/s \n",
            "\u001b[?25hBuilding wheels for collected packages: pyfpgrowth\n",
            "  Building wheel for pyfpgrowth (setup.py) ... \u001b[?25l\u001b[?25hdone\n",
            "  Created wheel for pyfpgrowth: filename=pyfpgrowth-1.0-py2.py3-none-any.whl size=5504 sha256=7e4d5c58931efb3cc36a9487aeeee5aac82923afd17ba5820f927c3e8108f4a1\n",
            "  Stored in directory: /root/.cache/pip/wheels/73/97/4b/f12ac994f6bbb99597396255435824c73ad3916be1e678be55\n",
            "Successfully built pyfpgrowth\n",
            "Installing collected packages: pyfpgrowth\n",
            "Successfully installed pyfpgrowth-1.0\n"
          ],
          "name": "stdout"
        }
      ]
    },
    {
      "cell_type": "code",
      "metadata": {
        "colab": {
          "base_uri": "https://localhost:8080/",
          "height": 222
        },
        "id": "6zFj_dN2schZ",
        "outputId": "2bd55d21-3dd1-482d-c2f8-aa40b3e7be04"
      },
      "source": [
        "dataset = pd.read_csv('jakarta.csv', header=None)\n",
        "dataset.head()"
      ],
      "execution_count": 2,
      "outputs": [
        {
          "output_type": "execute_result",
          "data": {
            "text/html": [
              "<div>\n",
              "<style scoped>\n",
              "    .dataframe tbody tr th:only-of-type {\n",
              "        vertical-align: middle;\n",
              "    }\n",
              "\n",
              "    .dataframe tbody tr th {\n",
              "        vertical-align: top;\n",
              "    }\n",
              "\n",
              "    .dataframe thead th {\n",
              "        text-align: right;\n",
              "    }\n",
              "</style>\n",
              "<table border=\"1\" class=\"dataframe\">\n",
              "  <thead>\n",
              "    <tr style=\"text-align: right;\">\n",
              "      <th></th>\n",
              "      <th>0</th>\n",
              "      <th>1</th>\n",
              "      <th>2</th>\n",
              "      <th>3</th>\n",
              "      <th>4</th>\n",
              "      <th>5</th>\n",
              "      <th>6</th>\n",
              "      <th>7</th>\n",
              "      <th>8</th>\n",
              "      <th>9</th>\n",
              "      <th>10</th>\n",
              "      <th>11</th>\n",
              "      <th>12</th>\n",
              "      <th>13</th>\n",
              "      <th>14</th>\n",
              "      <th>15</th>\n",
              "      <th>16</th>\n",
              "      <th>17</th>\n",
              "      <th>18</th>\n",
              "    </tr>\n",
              "  </thead>\n",
              "  <tbody>\n",
              "    <tr>\n",
              "      <th>0</th>\n",
              "      <td>date</td>\n",
              "      <td>odp_process</td>\n",
              "      <td>odp_end</td>\n",
              "      <td>odp_total</td>\n",
              "      <td>pdp_process</td>\n",
              "      <td>pdp_end</td>\n",
              "      <td>pdp_total</td>\n",
              "      <td>jakbar</td>\n",
              "      <td>jakpus</td>\n",
              "      <td>jaksel</td>\n",
              "      <td>jaktim</td>\n",
              "      <td>jakut</td>\n",
              "      <td>outsidejakarta</td>\n",
              "      <td>unknown</td>\n",
              "      <td>confirmed</td>\n",
              "      <td>released</td>\n",
              "      <td>deceased</td>\n",
              "      <td>hospitalized</td>\n",
              "      <td>self_isolated</td>\n",
              "    </tr>\n",
              "    <tr>\n",
              "      <th>1</th>\n",
              "      <td>3/1/2020</td>\n",
              "      <td>14</td>\n",
              "      <td>115</td>\n",
              "      <td>129</td>\n",
              "      <td>9</td>\n",
              "      <td>30</td>\n",
              "      <td>39</td>\n",
              "      <td>NaN</td>\n",
              "      <td>NaN</td>\n",
              "      <td>NaN</td>\n",
              "      <td>NaN</td>\n",
              "      <td>NaN</td>\n",
              "      <td>NaN</td>\n",
              "      <td>NaN</td>\n",
              "      <td>NaN</td>\n",
              "      <td>NaN</td>\n",
              "      <td>NaN</td>\n",
              "      <td>NaN</td>\n",
              "      <td>NaN</td>\n",
              "    </tr>\n",
              "    <tr>\n",
              "      <th>2</th>\n",
              "      <td>3/2/2020</td>\n",
              "      <td>14</td>\n",
              "      <td>115</td>\n",
              "      <td>129</td>\n",
              "      <td>9</td>\n",
              "      <td>30</td>\n",
              "      <td>39</td>\n",
              "      <td>NaN</td>\n",
              "      <td>NaN</td>\n",
              "      <td>NaN</td>\n",
              "      <td>NaN</td>\n",
              "      <td>NaN</td>\n",
              "      <td>NaN</td>\n",
              "      <td>NaN</td>\n",
              "      <td>NaN</td>\n",
              "      <td>NaN</td>\n",
              "      <td>NaN</td>\n",
              "      <td>NaN</td>\n",
              "      <td>NaN</td>\n",
              "    </tr>\n",
              "    <tr>\n",
              "      <th>3</th>\n",
              "      <td>3/3/2020</td>\n",
              "      <td>94</td>\n",
              "      <td>121</td>\n",
              "      <td>215</td>\n",
              "      <td>24</td>\n",
              "      <td>30</td>\n",
              "      <td>54</td>\n",
              "      <td>NaN</td>\n",
              "      <td>NaN</td>\n",
              "      <td>NaN</td>\n",
              "      <td>NaN</td>\n",
              "      <td>NaN</td>\n",
              "      <td>NaN</td>\n",
              "      <td>NaN</td>\n",
              "      <td>NaN</td>\n",
              "      <td>NaN</td>\n",
              "      <td>NaN</td>\n",
              "      <td>NaN</td>\n",
              "      <td>NaN</td>\n",
              "    </tr>\n",
              "    <tr>\n",
              "      <th>4</th>\n",
              "      <td>3/4/2020</td>\n",
              "      <td>120</td>\n",
              "      <td>121</td>\n",
              "      <td>241</td>\n",
              "      <td>26</td>\n",
              "      <td>30</td>\n",
              "      <td>56</td>\n",
              "      <td>NaN</td>\n",
              "      <td>NaN</td>\n",
              "      <td>NaN</td>\n",
              "      <td>NaN</td>\n",
              "      <td>NaN</td>\n",
              "      <td>NaN</td>\n",
              "      <td>NaN</td>\n",
              "      <td>NaN</td>\n",
              "      <td>NaN</td>\n",
              "      <td>NaN</td>\n",
              "      <td>NaN</td>\n",
              "      <td>NaN</td>\n",
              "    </tr>\n",
              "  </tbody>\n",
              "</table>\n",
              "</div>"
            ],
            "text/plain": [
              "         0            1        2   ...        16            17             18\n",
              "0      date  odp_process  odp_end  ...  deceased  hospitalized  self_isolated\n",
              "1  3/1/2020           14      115  ...       NaN           NaN            NaN\n",
              "2  3/2/2020           14      115  ...       NaN           NaN            NaN\n",
              "3  3/3/2020           94      121  ...       NaN           NaN            NaN\n",
              "4  3/4/2020          120      121  ...       NaN           NaN            NaN\n",
              "\n",
              "[5 rows x 19 columns]"
            ]
          },
          "metadata": {},
          "execution_count": 2
        }
      ]
    },
    {
      "cell_type": "code",
      "metadata": {
        "colab": {
          "base_uri": "https://localhost:8080/"
        },
        "id": "DQx1h6q5yXdC",
        "outputId": "cbf577e2-ccd2-4343-d1ab-be9de6d0a612"
      },
      "source": [
        "transactions = []\n",
        "for sublist in dataset.values.tolist():\n",
        "    clean_sublist = [item for item in sublist if item is not np.nan]\n",
        "    transactions.append(clean_sublist)\n",
        "patterns = pyfpgrowth.find_frequent_patterns(transactions,2)\n",
        "\n",
        "rules = pyfpgrowth.find_frequent_patterns(patterns,6)\n",
        "\n",
        "print(patterns)\n",
        "print(rules)"
      ],
      "execution_count": 3,
      "outputs": [
        {
          "output_type": "stream",
          "text": [
            "{('14',): 2, ('14', '30'): 2, ('115',): 2, ('115', '14'): 2, ('115', '30'): 2, ('115', '14', '30'): 2, ('129',): 2, ('115', '129'): 2, ('129', '14'): 2, ('129', '30'): 2, ('115', '129', '14'): 2, ('115', '129', '30'): 2, ('129', '14', '30'): 2, ('115', '129', '14', '30'): 2, ('9',): 2, ('129', '9'): 2, ('115', '9'): 2, ('14', '9'): 2, ('30', '9'): 2, ('115', '129', '9'): 2, ('129', '14', '9'): 2, ('129', '30', '9'): 2, ('115', '14', '9'): 2, ('115', '30', '9'): 2, ('14', '30', '9'): 2, ('115', '129', '14', '9'): 2, ('115', '129', '30', '9'): 2, ('129', '14', '30', '9'): 2, ('115', '14', '30', '9'): 2, ('115', '129', '14', '30', '9'): 2, ('39',): 2, ('39', '9'): 2, ('129', '39'): 2, ('115', '39'): 2, ('14', '39'): 2, ('30', '39'): 2, ('129', '39', '9'): 2, ('115', '39', '9'): 2, ('14', '39', '9'): 2, ('30', '39', '9'): 2, ('115', '129', '39'): 2, ('129', '14', '39'): 2, ('129', '30', '39'): 2, ('115', '14', '39'): 2, ('115', '30', '39'): 2, ('14', '30', '39'): 2, ('115', '129', '39', '9'): 2, ('129', '14', '39', '9'): 2, ('129', '30', '39', '9'): 2, ('115', '14', '39', '9'): 2, ('115', '30', '39', '9'): 2, ('14', '30', '39', '9'): 2, ('115', '129', '14', '39'): 2, ('115', '129', '30', '39'): 2, ('129', '14', '30', '39'): 2, ('115', '14', '30', '39'): 2, ('115', '129', '14', '39', '9'): 2, ('115', '129', '30', '39', '9'): 2, ('129', '14', '30', '39', '9'): 2, ('115', '14', '30', '39', '9'): 2, ('115', '129', '14', '30', '39'): 2, ('115', '129', '14', '30', '39', '9'): 2, ('94',): 2, ('121',): 2, ('121', '30'): 2, ('215',): 2, ('54',): 2, ('54', '94'): 2, ('120',): 2, ('127',): 2, ('267',): 2, ('49',): 2, ('307', '49'): 2, ('83',): 2, ('44', '83'): 2, ('98',): 2, ('70',): 2, ('486',): 2, ('862',): 2, ('374', '862'): 2, ('194',): 2, ('194', '862'): 2, ('194', '374'): 2, ('194', '374', '862'): 2, ('180',): 2, ('180', '194'): 2, ('180', '862'): 2, ('180', '374'): 2, ('180', '194', '862'): 2, ('180', '194', '374'): 2, ('180', '374', '862'): 2, ('180', '194', '374', '862'): 2, ('463',): 2, ('307',): 2, ('44',): 3, ('374',): 3, ('30',): 4}\n",
            "{('862',): 8, ('374',): 8, ('194',): 8, ('180',): 8, ('115', '14', '30'): 8, ('129', '14', '30'): 8, ('115', '14'): 16, ('115', '129', '14'): 8, ('129', '14'): 16, ('115',): 32, ('115', '30'): 16, ('115', '129'): 16, ('129', '30'): 16, ('115', '129', '30'): 8, ('129', '14', '9'): 8, ('129', '39', '9'): 8, ('115', '129', '9'): 8, ('115', '14', '9'): 8, ('115', '39', '9'): 8, ('14', '9'): 16, ('14', '39', '9'): 8, ('129', '30', '9'): 8, ('115', '30', '9'): 8, ('14', '30', '9'): 8, ('30', '39', '9'): 8, ('39', '9'): 16, ('129', '39'): 16, ('129', '14', '39'): 8, ('115', '129', '39'): 8, ('115', '14', '39'): 8, ('14', '39'): 16, ('129', '30', '39'): 8, ('115', '30', '39'): 8, ('14', '30', '39'): 8, ('30',): 33}\n"
          ],
          "name": "stdout"
        }
      ]
    }
  ]
}